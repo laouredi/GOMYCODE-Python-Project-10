{
 "cells": [
  {
   "cell_type": "code",
   "execution_count": 1,
   "id": "e065f803",
   "metadata": {},
   "outputs": [
    {
     "name": "stdout",
     "output_type": "stream",
     "text": [
      "False\n",
      "True\n"
     ]
    }
   ],
   "source": [
    "def binary_search(arr, x):\n",
    "    left, right = 0, len(arr) - 1\n",
    "\n",
    "    while left <= right:\n",
    "        mid = (left + right) // 2\n",
    "\n",
    "        if arr[mid] == x:\n",
    "            return True\n",
    "        elif arr[mid] < x:\n",
    "            left = mid + 1\n",
    "        else:\n",
    "            right = mid - 1\n",
    "\n",
    "    return False\n",
    "\n",
    "# Test\n",
    "print(binary_search([1, 2, 3, 5, 8], 6)) # False\n",
    "print(binary_search([1, 2, 3, 5, 8], 5)) # True"
   ]
  },
  {
   "cell_type": "code",
   "execution_count": 2,
   "id": "5a0eec95",
   "metadata": {},
   "outputs": [
    {
     "name": "stdout",
     "output_type": "stream",
     "text": [
      "81\n"
     ]
    }
   ],
   "source": [
    "def power(a, b):\n",
    "    return a ** b\n",
    "\n",
    "# Test\n",
    "print(power(3, 4)) # 81"
   ]
  },
  {
   "cell_type": "code",
   "execution_count": 3,
   "id": "53e9ea3f",
   "metadata": {},
   "outputs": [
    {
     "name": "stdout",
     "output_type": "stream",
     "text": [
      "[13, 22, 29, 37, 46, 49, 52, 56, 71]\n"
     ]
    }
   ],
   "source": [
    "def bubble_sort(arr):\n",
    "    n = len(arr)\n",
    "\n",
    "    for i in range(n):\n",
    "        for j in range(n-i-1):\n",
    "            if arr[j] > arr[j+1]:\n",
    "                arr[j], arr[j+1] = arr[j+1], arr[j]\n",
    "\n",
    "    return arr\n",
    "\n",
    "# Test\n",
    "arr = [29,13,22,37,52,49,46,71,56]\n",
    "print(bubble_sort(arr)) # [13, 22, 29, 37, 46, 49, 52, 56, 71]\n"
   ]
  },
  {
   "cell_type": "code",
   "execution_count": 4,
   "id": "5bce7ccb",
   "metadata": {},
   "outputs": [
    {
     "name": "stdout",
     "output_type": "stream",
     "text": [
      "[13, 22, 29, 37, 46, 49, 52, 56, 71]\n"
     ]
    }
   ],
   "source": [
    "def merge_sort(arr):\n",
    "    if len(arr) <= 1:\n",
    "        return arr\n",
    "\n",
    "    mid = len(arr) // 2\n",
    "    left = merge_sort(arr[:mid])\n",
    "    right = merge_sort(arr[mid:])\n",
    "\n",
    "    return merge(left, right)\n",
    "\n",
    "def merge(left, right):\n",
    "    res = []\n",
    "    i, j = 0, 0\n",
    "\n",
    "    while i < len(left) and j < len(right):\n",
    "        if left[i] <= right[j]:\n",
    "            res.append(left[i])\n",
    "            i += 1\n",
    "        else:\n",
    "            res.append(right[j])\n",
    "            j += 1\n",
    "\n",
    "    res += left[i:]\n",
    "    res += right[j:]\n",
    "\n",
    "    return res\n",
    "\n",
    "# Test\n",
    "arr = [29,13,22,37,52,49,46,71,56]\n",
    "print(merge_sort(arr)) # [13, 22, 29, 37, 46, 49, 52, 56, 71]\n"
   ]
  },
  {
   "cell_type": "code",
   "execution_count": 5,
   "id": "d7ff7ec3",
   "metadata": {},
   "outputs": [
    {
     "name": "stdout",
     "output_type": "stream",
     "text": [
      "[13, 22, 29, 37, 46, 49, 52, 56, 71]\n"
     ]
    }
   ],
   "source": [
    "def quick_sort(arr):\n",
    "    if len(arr) <= 1:\n",
    "        return arr\n",
    "\n",
    "    pivot = arr[0]\n",
    "    left, right = [], []\n",
    "\n",
    "    for i in range(1, len(arr)):\n",
    "        if arr[i] <= pivot:\n",
    "            left.append(arr[i])\n",
    "        else:\n",
    "            right.append(arr[i])\n",
    "\n",
    "    return quick_sort(left) + [pivot] + quick_sort(right)\n",
    "\n",
    "# Test\n",
    "arr = [29,13,22,37,52,49,46,71,56]\n",
    "print(quick_sort(arr)) # [13, 22, 29, 37, 46, 49, 52, 56, 71]\n"
   ]
  },
  {
   "cell_type": "code",
   "execution_count": null,
   "id": "bd29cdea",
   "metadata": {},
   "outputs": [],
   "source": []
  }
 ],
 "metadata": {
  "kernelspec": {
   "display_name": "Python 3 (ipykernel)",
   "language": "python",
   "name": "python3"
  },
  "language_info": {
   "codemirror_mode": {
    "name": "ipython",
    "version": 3
   },
   "file_extension": ".py",
   "mimetype": "text/x-python",
   "name": "python",
   "nbconvert_exporter": "python",
   "pygments_lexer": "ipython3",
   "version": "3.9.13"
  }
 },
 "nbformat": 4,
 "nbformat_minor": 5
}
